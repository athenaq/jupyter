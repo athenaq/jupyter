{
 "cells": [
  {
   "cell_type": "markdown",
   "metadata": {},
   "source": [
    "# Jupyter Notebook使用手册\n",
    "[一、Jupyter notebook的安装](#Installation)  \n",
    "[二、更改Jupyter notebook的工作空间](#Work_dir)  \n",
    "[三、Jupyter notebook的快捷键](#Keyboard_Shortcuts)  \n",
    "[四、Jupter notebook如何导入代码](#load_code)  \n",
    "[五、Jupyter运行python文件](#Jupyter_run_python)  \n",
    "[六、Jupyter中的Markdown](#Markdown)\n",
    "<a id'Installation'></a>\n",
    "## 一、Jupyter notebook的安装\n",
    "\n",
    "### 1.1 安装\n",
    "\n",
    "Anaconda自带Jupyter Notebook，不需要单独安装\n",
    "### 1.2 启动\n",
    "\n",
    "    % jupyter notebook\n",
    "\n",
    "    % jupyter notebook --help 获得帮助\n",
    "\n",
    "<a id='Work_dir'></a>\n",
    "## 二、更改Jupyter notebook的工作空间\n",
    "### 2.1 如何找到Jupyter的配置文件\n",
    "\n",
    "在cmd中输入jupyter notebook --generate-config\n",
    "\n",
    "如果配置文件存在，则会显示其路径，否则创建\n",
    "\n",
    "### 2.2 在哪里指定Jupyter的工作空间？\n",
    "\n",
    "    # The directory to use for notebooks and kernels.\n",
    "    # c.NotebookApp.notebook_dir = ''\n",
    "\n",
    "该句就是用来指定工作空间的，默认的工作空间是用户目录\n",
    "### 2.3 获取工作目录\n",
    "\n",
    "    current_path = %pwd\n",
    "    \n",
    "<a id='Keyboard_Shortcuts'></a>\n",
    "## 三、Jupyter notebook的快捷键\n",
    "\n",
    "Jupyter Notebook 有两种键盘输入模式。编辑模式，允许你往单元中键入代码或文本；这时的单元框线是绿色的。命令模式，键盘输入运行程序命令；这时的单元框线是灰色。\n",
    "\n",
    "查看快捷键：Jupyter > Help > KeyBoard Shortcuts\n",
    "\n",
    "<a id='load_code'></a>\n",
    "## 四、Jupter notebook如何导入代码\n",
    "\n",
    "##### (1) 在需要导入的cell输入  \n",
    "\n",
    "    %load test.py       从本地.py文件load\n",
    "    %load http://...    从网络load\n",
    "\n",
    "##### (2) 运行该cell\n",
    "\n",
    "<a id='Jupyter_run_python'></a>\n",
    "## 五、Jupyter运行python文件\n",
    "\n",
    "    %run file.py\n",
    "\n",
    "<a id='Markdown'></a>\n",
    "## 六、Jupyter中的Markdown\n",
    "<a href='http://blog.leanote.com/post/freewalk/Markdown-%E8%AF%AD%E6%B3%95%E6%89%8B%E5%86%8C'>Markdown 语法手册 （完整整理版）参考</a>\n",
    "\n",
    "### 6.1 在Jupyter中设置链接，需要设置两部分\n",
    "\n",
    "    [需要添加链接的文字](#the_destination)  \n",
    "\n",
    "    <a id='the_destination'>链接到这里</a>  \n",
    "\n",
    "### 6.2 为Jupyter notebook添加目录功能\n",
    "\n",
    "利用Anaconda安装Jupyter Notebook extensions \n",
    "\n",
    "% conda install -c conda-forge jupyter_contrib_nbextensions\n",
    "\n",
    "## 七、Jupyter的一些其他用法\n",
    "\n",
    "### 7.1 Jupyter的cell可以作为unix command使用\n",
    "如：\n",
    "\n",
    "!python --version\n",
    "\n",
    "!python file.py\n",
    "\n",
    "### 7.2 使用Matplotlib绘图\n",
    "\n",
    "在Jupyter Notebook中，如果使用Matplotlib绘图，有时是弹不出图像框的，此时，可以在开头加入\n",
    "\n",
    "%matplotlib inline\n",
    "\n",
    "### 7.3 Magis functions\n",
    "\n",
    "参考<a href='http://nbviewer.jupyter.org/github/ipython/ipython/blob/1.x/examples/notebooks/Cell%20Magics.ipynb#The-cell-magics-in-IPython'>The cell magics in IPython</a>\n",
    "\n",
    "\n"
   ]
  },
  {
   "cell_type": "code",
   "execution_count": 57,
   "metadata": {
    "collapsed": false
   },
   "outputs": [
    {
     "name": "stdout",
     "output_type": "stream",
     "text": [
      "hello from Python: 3.5.1 |Anaconda 4.0.0 (x86_64)| (default, Dec  7 2015, 11:24:55) \n",
      "[GCC 4.2.1 (Apple Inc. build 5577)]\n"
     ]
    }
   ],
   "source": [
    "%%script python3\n",
    "import sys\n",
    "print('hello from Python: %s' % sys.version)"
   ]
  },
  {
   "cell_type": "code",
   "execution_count": null,
   "metadata": {
    "collapsed": true
   },
   "outputs": [],
   "source": []
  }
 ],
 "metadata": {
  "kernelspec": {
   "display_name": "Python 3",
   "language": "python",
   "name": "python3"
  },
  "language_info": {
   "codemirror_mode": {
    "name": "ipython",
    "version": 3
   },
   "file_extension": ".py",
   "mimetype": "text/x-python",
   "name": "python",
   "nbconvert_exporter": "python",
   "pygments_lexer": "ipython3",
   "version": "3.5.1"
  }
 },
 "nbformat": 4,
 "nbformat_minor": 0
}
